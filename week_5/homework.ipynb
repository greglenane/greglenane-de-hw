{
 "cells": [
  {
   "cell_type": "code",
   "execution_count": 56,
   "id": "acbb822e-82d1-4d4f-923c-66eb94e0ecaf",
   "metadata": {},
   "outputs": [],
   "source": [
    "import pyspark\n",
    "from pyspark.sql import SparkSession\n",
    "from pyspark.sql import functions as F\n",
    "from pyspark.sql import types\n",
    "from pyspark.sql.functions import col, unix_timestamp"
   ]
  },
  {
   "cell_type": "code",
   "execution_count": 5,
   "id": "c465a4b2-b7bb-4ee3-8146-b56052cd14d2",
   "metadata": {},
   "outputs": [
    {
     "name": "stderr",
     "output_type": "stream",
     "text": [
      "Setting default log level to \"WARN\".\n",
      "To adjust logging level use sc.setLogLevel(newLevel). For SparkR, use setLogLevel(newLevel).\n",
      "25/03/02 19:06:40 WARN NativeCodeLoader: Unable to load native-hadoop library for your platform... using builtin-java classes where applicable\n"
     ]
    }
   ],
   "source": [
    "spark = SparkSession.builder \\\n",
    "    .master(\"local[*]\") \\\n",
    "    .appName('test') \\\n",
    "    .getOrCreate()"
   ]
  },
  {
   "cell_type": "code",
   "execution_count": 6,
   "id": "3a0fcdbb-b187-487d-8189-41aa9d779f4f",
   "metadata": {},
   "outputs": [
    {
     "data": {
      "text/plain": [
       "'3.5.5'"
      ]
     },
     "execution_count": 6,
     "metadata": {},
     "output_type": "execute_result"
    }
   ],
   "source": [
    "spark.version"
   ]
  },
  {
   "cell_type": "code",
   "execution_count": 7,
   "id": "b9c3487b-fd7d-48b6-83d0-f718c493f62c",
   "metadata": {},
   "outputs": [
    {
     "name": "stderr",
     "output_type": "stream",
     "text": [
      "                                                                                "
     ]
    }
   ],
   "source": [
    "df = spark.read \\\n",
    "    .parquet('yellow_tripdata_2024-10.parquet')"
   ]
  },
  {
   "cell_type": "code",
   "execution_count": 10,
   "id": "ba7e6e07-997e-4a21-92f4-69c1381ffb1b",
   "metadata": {},
   "outputs": [],
   "source": [
    "df = df.repartition(4)"
   ]
  },
  {
   "cell_type": "code",
   "execution_count": 11,
   "id": "2658b296-5efc-40ea-9033-bb4906ca3a14",
   "metadata": {},
   "outputs": [
    {
     "name": "stderr",
     "output_type": "stream",
     "text": [
      "                                                                                "
     ]
    }
   ],
   "source": [
    "df.write.parquet('pq/')"
   ]
  },
  {
   "cell_type": "code",
   "execution_count": 13,
   "id": "87fb79b0-bea4-4725-bbe8-d9b799ce78c1",
   "metadata": {},
   "outputs": [],
   "source": [
    "import os"
   ]
  },
  {
   "cell_type": "code",
   "execution_count": 16,
   "id": "d1ae2d67-55f4-40b3-93e6-c9997156bd71",
   "metadata": {},
   "outputs": [],
   "source": [
    "def get_average_parquet_size(directory):\n",
    "    parquet_files = [f for f in os.listdir(directory) if f.endswith(\".parquet\")]\n",
    "    \n",
    "    if not parquet_files:\n",
    "        return 0  # No Parquet files found\n",
    "    \n",
    "    total_size = sum(os.path.getsize(os.path.join(directory, f)) for f in parquet_files)\n",
    "    average_size = total_size / len(parquet_files)\n",
    "    \n",
    "    return average_size"
   ]
  },
  {
   "cell_type": "code",
   "execution_count": 17,
   "id": "cf3dc218-8b01-4dd9-88a1-5aae12048552",
   "metadata": {},
   "outputs": [
    {
     "name": "stdout",
     "output_type": "stream",
     "text": [
      "Average size of Parquet files: 23.04 MB\n"
     ]
    }
   ],
   "source": [
    "directory = \"pq/\"\n",
    "average_size = get_average_parquet_size(directory)\n",
    "print(f\"Average size of Parquet files: {average_size / (1024 * 1024):.2f} MB\")"
   ]
  },
  {
   "cell_type": "code",
   "execution_count": 18,
   "id": "a24089be-f4e6-4319-a17f-c5730d6128f2",
   "metadata": {},
   "outputs": [
    {
     "data": {
      "text/plain": [
       "DataFrame[VendorID: int, tpep_pickup_datetime: timestamp_ntz, tpep_dropoff_datetime: timestamp_ntz, passenger_count: bigint, trip_distance: double, RatecodeID: bigint, store_and_fwd_flag: string, PULocationID: int, DOLocationID: int, payment_type: bigint, fare_amount: double, extra: double, mta_tax: double, tip_amount: double, tolls_amount: double, improvement_surcharge: double, total_amount: double, congestion_surcharge: double, Airport_fee: double]"
      ]
     },
     "execution_count": 18,
     "metadata": {},
     "output_type": "execute_result"
    }
   ],
   "source": [
    "df"
   ]
  },
  {
   "cell_type": "code",
   "execution_count": 40,
   "id": "781b29d3-ff80-4ed8-aeae-ee35a574ec93",
   "metadata": {},
   "outputs": [],
   "source": [
    "df_count = df \\\n",
    "    .withColumn(\"pickup_date\", to_date(df.tpep_pickup_datetime)) "
   ]
  },
  {
   "cell_type": "code",
   "execution_count": 41,
   "id": "24672238-2343-42bb-b51e-b235efc74868",
   "metadata": {},
   "outputs": [
    {
     "data": {
      "text/plain": [
       "128893"
      ]
     },
     "execution_count": 41,
     "metadata": {},
     "output_type": "execute_result"
    }
   ],
   "source": [
    "df_count = df_count\\\n",
    "    .filter(df_count.pickup_date == \"2024-10-15\") \\\n",
    "    .count()\n",
    "df_count"
   ]
  },
  {
   "cell_type": "code",
   "execution_count": 43,
   "id": "5d6f60e7-6eea-4d19-a3b3-1008d98af4b4",
   "metadata": {},
   "outputs": [
    {
     "name": "stdout",
     "output_type": "stream",
     "text": [
      "root\n",
      " |-- VendorID: integer (nullable = true)\n",
      " |-- tpep_pickup_datetime: timestamp_ntz (nullable = true)\n",
      " |-- tpep_dropoff_datetime: timestamp_ntz (nullable = true)\n",
      " |-- passenger_count: long (nullable = true)\n",
      " |-- trip_distance: double (nullable = true)\n",
      " |-- RatecodeID: long (nullable = true)\n",
      " |-- store_and_fwd_flag: string (nullable = true)\n",
      " |-- PULocationID: integer (nullable = true)\n",
      " |-- DOLocationID: integer (nullable = true)\n",
      " |-- payment_type: long (nullable = true)\n",
      " |-- fare_amount: double (nullable = true)\n",
      " |-- extra: double (nullable = true)\n",
      " |-- mta_tax: double (nullable = true)\n",
      " |-- tip_amount: double (nullable = true)\n",
      " |-- tolls_amount: double (nullable = true)\n",
      " |-- improvement_surcharge: double (nullable = true)\n",
      " |-- total_amount: double (nullable = true)\n",
      " |-- congestion_surcharge: double (nullable = true)\n",
      " |-- Airport_fee: double (nullable = true)\n",
      "\n"
     ]
    }
   ],
   "source": [
    "df.printSchema()"
   ]
  },
  {
   "cell_type": "code",
   "execution_count": 60,
   "id": "8b237144-6bac-423d-b0f8-3563a5bede01",
   "metadata": {},
   "outputs": [
    {
     "name": "stderr",
     "output_type": "stream",
     "text": [
      "[Stage 32:=============================>                            (1 + 1) / 2]"
     ]
    },
    {
     "name": "stdout",
     "output_type": "stream",
     "text": [
      "+--------------------+\n",
      "|       trip_duration|\n",
      "+--------------------+\n",
      "|  0.5202777777777777|\n",
      "|0.050555555555555555|\n",
      "| 0.19777777777777777|\n",
      "|  0.8927777777777778|\n",
      "| 0.09944444444444445|\n",
      "|  0.3713888888888889|\n",
      "| 0.11777777777777777|\n",
      "| 0.20666666666666667|\n",
      "|  0.6480555555555556|\n",
      "|  0.2452777777777778|\n",
      "|  0.2747222222222222|\n",
      "| 0.16944444444444445|\n",
      "|  0.5566666666666666|\n",
      "| 0.13361111111111112|\n",
      "|0.050833333333333335|\n",
      "|  0.6613888888888889|\n",
      "|  0.1688888888888889|\n",
      "|0.001944444444444...|\n",
      "| 0.12861111111111112|\n",
      "|              0.1575|\n",
      "+--------------------+\n",
      "only showing top 20 rows\n",
      "\n"
     ]
    },
    {
     "name": "stderr",
     "output_type": "stream",
     "text": [
      "                                                                                "
     ]
    }
   ],
   "source": [
    "df_trip = df \\\n",
    "    .withColumn('trip_duration', (unix_timestamp(col(\"tpep_dropoff_datetime\")) - unix_timestamp(col(\"tpep_pickup_datetime\"))) / 3600) \\\n",
    "    .select('trip_duration').show()"
   ]
  },
  {
   "cell_type": "code",
   "execution_count": 64,
   "id": "6e1fef3a-e19f-428f-bf45-3148101c8e1d",
   "metadata": {},
   "outputs": [
    {
     "ename": "AttributeError",
     "evalue": "'NoneType' object has no attribute 'printSchema'",
     "output_type": "error",
     "traceback": [
      "\u001b[0;31m---------------------------------------------------------------------------\u001b[0m",
      "\u001b[0;31mAttributeError\u001b[0m                            Traceback (most recent call last)",
      "Cell \u001b[0;32mIn[64], line 1\u001b[0m\n\u001b[0;32m----> 1\u001b[0m \u001b[43mdf_trip\u001b[49m\u001b[38;5;241;43m.\u001b[39;49m\u001b[43mprintSchema\u001b[49m()\n",
      "\u001b[0;31mAttributeError\u001b[0m: 'NoneType' object has no attribute 'printSchema'"
     ]
    }
   ],
   "source": []
  },
  {
   "cell_type": "code",
   "execution_count": 68,
   "id": "ad4055bd-7b63-4d02-8b04-7ec56e7f39d9",
   "metadata": {},
   "outputs": [
    {
     "name": "stderr",
     "output_type": "stream",
     "text": [
      "                                                                                "
     ]
    },
    {
     "data": {
      "text/plain": [
       "Row(trip_duration=162.61777777777777)"
      ]
     },
     "execution_count": 68,
     "metadata": {},
     "output_type": "execute_result"
    }
   ],
   "source": [
    "df_trip = df \\\n",
    "    .withColumn('trip_duration', (unix_timestamp(col(\"tpep_dropoff_datetime\")) - unix_timestamp(col(\"tpep_pickup_datetime\"))) / 3600) \\\n",
    "    .select('trip_duration') \\\n",
    "    .orderBy(col('trip_duration').desc()) \\\n",
    "    .first()\n",
    "df_trip"
   ]
  },
  {
   "cell_type": "code",
   "execution_count": null,
   "id": "23b14238-c1dd-4499-82a0-2f138726c8ae",
   "metadata": {},
   "outputs": [],
   "source": []
  }
 ],
 "metadata": {
  "kernelspec": {
   "display_name": "Python 3 (ipykernel)",
   "language": "python",
   "name": "python3"
  },
  "language_info": {
   "codemirror_mode": {
    "name": "ipython",
    "version": 3
   },
   "file_extension": ".py",
   "mimetype": "text/x-python",
   "name": "python",
   "nbconvert_exporter": "python",
   "pygments_lexer": "ipython3",
   "version": "3.10.16"
  }
 },
 "nbformat": 4,
 "nbformat_minor": 5
}
