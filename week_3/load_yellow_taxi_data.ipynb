{
 "cells": [
  {
   "cell_type": "code",
   "execution_count": null,
   "id": "f3b8c429-5778-47c0-be90-3108cdaddb45",
   "metadata": {},
   "outputs": [],
   "source": [
    "import os\n",
    "import urllib.request\n",
    "from concurrent.futures import ThreadPoolExecutor\n",
    "from google.cloud import storage\n",
    "import time"
   ]
  },
  {
   "cell_type": "code",
   "execution_count": null,
   "id": "46fa51f3",
   "metadata": {},
   "outputs": [],
   "source": [
    "# bucket name\n",
    "BUCKET_NAME = \"ny-rides-gregl-446219-gcp-bucket\""
   ]
  },
  {
   "cell_type": "code",
   "execution_count": null,
   "id": "ba85cb10",
   "metadata": {},
   "outputs": [],
   "source": [
    "# google cloud credentials\n",
    "CREDENTIALS_FILE = \"/home/greg/terrademo/keys/my-creds.json\"  \n",
    "client = storage.Client.from_service_account_json(CREDENTIALS_FILE)"
   ]
  },
  {
   "cell_type": "code",
   "execution_count": null,
   "id": "c38d3a73",
   "metadata": {},
   "outputs": [],
   "source": [
    "BASE_URL = \"https://d37ci6vzurychx.cloudfront.net/trip-data/yellow_tripdata_2024-\"\n",
    "MONTHS = [f\"{i:02d}\" for i in range(1, 7)] \n",
    "DOWNLOAD_DIR = \".\""
   ]
  },
  {
   "cell_type": "code",
   "execution_count": null,
   "id": "78fcd4b9",
   "metadata": {},
   "outputs": [],
   "source": [
    "CHUNK_SIZE = 8 * 1024 * 1024\n",
    "os.makedirs(DOWNLOAD_DIR, exist_ok=True)\n",
    "bucket = client.bucket(BUCKET_NAME)"
   ]
  },
  {
   "cell_type": "code",
   "execution_count": null,
   "id": "b10d216f",
   "metadata": {},
   "outputs": [],
   "source": [
    "def download_file(month):\n",
    "    url = f\"{BASE_URL}{month}.parquet\"\n",
    "    file_path = os.path.join(DOWNLOAD_DIR, f\"yellow_tripdata_2024-{month}.parquet\")\n",
    "\n",
    "    try:\n",
    "        print(f\"Downloading {url}...\")\n",
    "        urllib.request.urlretrieve(url, file_path)\n",
    "        print(f\"Downloaded: {file_path}\")\n",
    "        return file_path\n",
    "    except Exception as e:\n",
    "        print(f\"Failed to download {url}: {e}\")\n",
    "        return None"
   ]
  },
  {
   "cell_type": "code",
   "execution_count": null,
   "id": "59df592b",
   "metadata": {},
   "outputs": [],
   "source": [
    "def verify_gcs_upload(blob_name):\n",
    "    return storage.Blob(bucket=bucket, name=blob_name).exists(client)"
   ]
  },
  {
   "cell_type": "code",
   "execution_count": null,
   "id": "7cbe34c6",
   "metadata": {},
   "outputs": [],
   "source": [
    "def upload_to_gcs(file_path, max_retries=3):\n",
    "    blob_name = os.path.basename(file_path)\n",
    "    blob = bucket.blob(blob_name)\n",
    "    blob.chunk_size = CHUNK_SIZE  \n",
    "    \n",
    "    for attempt in range(max_retries):\n",
    "        try:\n",
    "            print(f\"Uploading {file_path} to {BUCKET_NAME} (Attempt {attempt + 1})...\")\n",
    "            blob.upload_from_filename(file_path)\n",
    "            print(f\"Uploaded: gs://{BUCKET_NAME}/{blob_name}\")\n",
    "            \n",
    "            if verify_gcs_upload(blob_name):\n",
    "                print(f\"Verification successful for {blob_name}\")\n",
    "                return\n",
    "            else:\n",
    "                print(f\"Verification failed for {blob_name}, retrying...\")\n",
    "        except Exception as e:\n",
    "            print(f\"Failed to upload {file_path} to GCS: {e}\")\n",
    "        \n",
    "        time.sleep(5)  \n",
    "    \n",
    "    print(f\"Giving up on {file_path} after {max_retries} attempts.\")"
   ]
  },
  {
   "cell_type": "code",
   "execution_count": null,
   "id": "5e4ad284",
   "metadata": {},
   "outputs": [],
   "source": [
    "if __name__ == \"__main__\":\n",
    "    with ThreadPoolExecutor(max_workers=4) as executor:\n",
    "        file_paths = list(executor.map(download_file, MONTHS))\n",
    "\n",
    "    with ThreadPoolExecutor(max_workers=4) as executor:\n",
    "        executor.map(upload_to_gcs, filter(None, file_paths))  # Remove None values\n",
    "\n",
    "    print(\"All files processed and verified.\")"
   ]
  }
 ],
 "metadata": {
  "kernelspec": {
   "display_name": "Python 3 (ipykernel)",
   "language": "python",
   "name": "python3"
  },
  "language_info": {
   "codemirror_mode": {
    "name": "ipython",
    "version": 3
   },
   "file_extension": ".py",
   "mimetype": "text/x-python",
   "name": "python",
   "nbconvert_exporter": "python",
   "pygments_lexer": "ipython3",
   "version": "3.12.8"
  }
 },
 "nbformat": 4,
 "nbformat_minor": 5
}
